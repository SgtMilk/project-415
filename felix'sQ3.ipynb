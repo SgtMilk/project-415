{
 "cells": [
  {
   "cell_type": "code",
   "execution_count": 1,
   "source": [
    "#Various iimport statements used  later\n",
    "\n",
    "import matplotlib.image as mpimg\n",
    "import pandas as pd\n",
    "from skimage.feature import hog\n",
    "from skimage import exposure, color\n",
    "import matplotlib.pyplot as plt\n",
    "from sklearn.svm import SVR\n",
    "from sklearn.pipeline import make_pipeline\n",
    "from sklearn.preprocessing import StandardScaler\n",
    "import numpy as np\n"
   ],
   "outputs": [],
   "metadata": {}
  },
  {
   "cell_type": "code",
   "execution_count": 2,
   "source": [
    "# Read Validation Traffic Image\n",
    "trainIm = []\n",
    "validIm = [] \n",
    "csvTrain = 'data/train.csv'\n",
    "csvValid = 'data/valid.csv'\n",
    "path = 'data/original/'\n",
    "\n",
    "# read csv file for the training set\n",
    "df = pd.read_csv(csvTrain)\n",
    "trainCount = list(df['counts'])\n",
    "images = list(df['images'])\n",
    "\n",
    "for image in images:\n",
    "    im = color.rgb2gray(mpimg.imread(path + str(image), 0))\n",
    "    trainIm.append(im)\n",
    "\n",
    "# read csv file for the validation set\n",
    "df = pd.read_csv(csvValid)\n",
    "validCount = list(df['counts'])\n",
    "images = list(df['images'])\n",
    "\n",
    "for image in images:\n",
    "    im = color.rgb2gray(mpimg.imread(path + str(image), 0))\n",
    "    validIm.append(im)\n",
    "\n",
    "del df, im, image, images, path, csvTrain, csvValid"
   ],
   "outputs": [],
   "metadata": {}
  },
  {
   "cell_type": "code",
   "execution_count": 10,
   "source": [
    "def myHog(image): # Hog for the images\n",
    "    return hog(image, orientations=9, pixels_per_cell=(22, 22), cells_per_block=(2, 2), visualize=False)"
   ],
   "outputs": [],
   "metadata": {}
  },
  {
   "cell_type": "code",
   "execution_count": 11,
   "source": [
    "# Compute the HOGs for all the train images\n",
    "hogTrain = []\n",
    "\n",
    "for x, im in enumerate(trainIm):\n",
    "    fd = myHog(im)\n",
    "    hogTrain.append(fd)\n",
    "\n",
    "hogTrain = np.stack(hogTrain)\n",
    "\n",
    "del fd, x"
   ],
   "outputs": [],
   "metadata": {}
  },
  {
   "cell_type": "code",
   "execution_count": 12,
   "source": [
    "# Fit the HOG to the count in the training images\n",
    "regr = make_pipeline(StandardScaler(), SVR(C=30.0, epsilon=0.2, degree=4))\n",
    "regr.fit(hogTrain, trainCount)"
   ],
   "outputs": [
    {
     "output_type": "execute_result",
     "data": {
      "text/plain": [
       "Pipeline(steps=[('standardscaler', StandardScaler()),\n",
       "                ('svr', SVR(C=30.0, degree=4, epsilon=0.2))])"
      ]
     },
     "metadata": {},
     "execution_count": 12
    }
   ],
   "metadata": {}
  },
  {
   "cell_type": "code",
   "execution_count": 13,
   "source": [
    "hogValid = []\n",
    "\n",
    "for x, im in enumerate(validIm):\n",
    "    fd = myHog(im)\n",
    "    hogValid.append(fd)\n",
    "\n",
    "hogValid = np.stack(hogValid)\n",
    "validPred = regr.predict(hogValid)\n",
    "\n",
    "del fd, x"
   ],
   "outputs": [],
   "metadata": {}
  },
  {
   "cell_type": "code",
   "execution_count": 18,
   "source": [
    "\n",
    "fig, ax = plt.subplots(figsize=(10,8))\n",
    "ax.scatter(validPred, validCount)\n",
    "ax.set_xlabel('Predicted Vehicle Count')\n",
    "ax.set_ylabel('True Vehicle Count')\n",
    "ax.set_title('Support Vector Regressor using HOGs for direct car count')\n",
    "plt.show()"
   ],
   "outputs": [
    {
     "output_type": "display_data",
     "data": {
      "image/png": "[encoded data removed]",
      "text/plain": [
       "<Figure size 720x576 with 1 Axes>"
      ]
     },
     "metadata": {
      "needs_background": "light"
     }
    }
   ],
   "metadata": {}
  },
  {
   "cell_type": "code",
   "execution_count": 19,
   "source": [
    "from scipy import stats\n",
    "r, p = stats.pearsonr(validPred, validCount)\n",
    "print('Pearson’s Correlation Coefficient: ' + str(r))"
   ],
   "outputs": [
    {
     "output_type": "stream",
     "name": "stdout",
     "text": [
      "Pearson’s Correlation Coefficient: 0.8245273212225206\n"
     ]
    }
   ],
   "metadata": {}
  },
  {
   "cell_type": "code",
   "execution_count": 20,
   "source": [
    "mae_sum = 0\n",
    "mae_sum = np.sum(abs(validPred - validCount))\n",
    "mae = mae_sum / len(validCount)\n",
    "print('Mean Absolute Error: ' + str(mae))"
   ],
   "outputs": [
    {
     "output_type": "stream",
     "name": "stdout",
     "text": [
      "Mean Absolute Error: 6.330093503490096\n"
     ]
    }
   ],
   "metadata": {}
  },
  {
   "cell_type": "code",
   "execution_count": 21,
   "source": [
    "mse_sum = 0\n",
    "mse_sum = np.sum((validPred - validCount)**2)\n",
    "mse = mse_sum / len(validCount)\n",
    "\n",
    "print('Mean Square Error: ' + str(mse))"
   ],
   "outputs": [
    {
     "output_type": "stream",
     "name": "stdout",
     "text": [
      "Mean Square Error: 70.10438938996282\n"
     ]
    }
   ],
   "metadata": {}
  }
 ],
 "metadata": {
  "interpreter": {
   "hash": "e7370f93d1d0cde622a1f8e1c04877d8463912d04d973331ad4851f04de6915a"
  },
  "kernelspec": {
   "name": "python3",
   "display_name": "Python 3.9.6 64-bit"
  },
  "language_info": {
   "codemirror_mode": {
    "name": "ipython",
    "version": 3
   },
   "file_extension": ".py",
   "mimetype": "text/x-python",
   "name": "python",
   "nbconvert_exporter": "python",
   "pygments_lexer": "ipython3",
   "version": "3.9.6"
  },
  "orig_nbformat": 4
 },
 "nbformat": 4,
 "nbformat_minor": 2
}