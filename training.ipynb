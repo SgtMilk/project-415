{
 "cells": [
  {
   "cell_type": "code",
   "execution_count": 51,
   "metadata": {},
   "outputs": [
    {
     "name": "stdout",
     "output_type": "stream",
     "text": [
      "/home/alix/Desktop/school/semester_5/ECSE-415/project-415/data/TRANCOS\n"
     ]
    }
   ],
   "source": [
    "# imports\n",
    "import torch\n",
    "import pandas as pd\n",
    "import os\n",
    "import matplotlib.pyplot as plt\n",
    "import numpy as np\n",
    "import cv2\n",
    "\n",
    "device = torch.device(\"cuda:0\" if torch.cuda.is_available() else \"cpu\")\n",
    "torch.manual_seed(1)\n",
    "\n",
    "data_folder = os.path.abspath('./data')\n",
    "image_folder = os.path.join(data_folder, 'TRANCOS')\n",
    "\n",
    "print(image_folder)"
   ]
  },
  {
   "cell_type": "code",
   "execution_count": 52,
   "metadata": {},
   "outputs": [
    {
     "name": "stdout",
     "output_type": "stream",
     "text": [
      "Image format: [640, 480, 3]\n",
      "Train dataset length: 623\n",
      "Validation dataset length: 200\n",
      "Test dataset length: 421\n"
     ]
    }
   ],
   "source": [
    "# getting data\n",
    "\n",
    "dataset_type = ['train', 'valid', 'test']\n",
    "\n",
    "# declaring all datasets\n",
    "train_dataset = []\n",
    "train_labels = []\n",
    "\n",
    "valid_dataset = []\n",
    "valid_labels = []\n",
    "\n",
    "test_dataset = []\n",
    "\n",
    "# populating dataset\n",
    "for i, [dataset, labels] in enumerate([[train_dataset, train_labels], [valid_dataset, valid_labels], [test_dataset, []]]):\n",
    "    csv = pd.read_csv(os.path.join(data_folder, dataset_type[i] + '.csv'))\n",
    "    if(i < 2):\n",
    "        csv = pd.Series(csv.counts.values,index=csv.images).to_dict()\n",
    "        dataset += [cv2.normalize(cv2.resize(plt.imread(os.path.join(image_folder, img)), (480, 640)), None, alpha=0, beta=1, norm_type=cv2.NORM_MINMAX, dtype=cv2.CV_32F) for img in list(csv.keys())]\n",
    "        labels += list(csv.values())\n",
    "    else:\n",
    "        dataset += [plt.imread(os.path.join(image_folder, img)) for img in list(csv.images.values.tolist())]\n",
    "\n",
    "# transforming into torch tensors\n",
    "train_dataset = torch.from_numpy(np.array(train_dataset))\n",
    "train_labels = torch.from_numpy(np.array(train_labels))\n",
    "valid_dataset = torch.from_numpy(np.array(valid_dataset))\n",
    "valid_labels = torch.from_numpy(np.array(valid_labels))\n",
    "test_dataset = torch.from_numpy(np.array(test_dataset))\n",
    "\n",
    "print(\"Image format: \" + str(list(train_dataset.shape)[1:]))\n",
    "print(\"Train dataset length: \" + str(train_dataset.shape[0]))\n",
    "print(\"Validation dataset length: \" + str(valid_dataset.shape[0]))\n",
    "print(\"Test dataset length: \" + str(test_dataset.shape[0]))\n"
   ]
  },
  {
   "cell_type": "code",
   "execution_count": 53,
   "metadata": {},
   "outputs": [],
   "source": [
    "# declaring parameters"
   ]
  },
  {
   "cell_type": "code",
   "execution_count": 54,
   "metadata": {},
   "outputs": [],
   "source": [
    "# model"
   ]
  },
  {
   "cell_type": "code",
   "execution_count": 55,
   "metadata": {},
   "outputs": [],
   "source": [
    "# training"
   ]
  },
  {
   "cell_type": "code",
   "execution_count": 56,
   "metadata": {},
   "outputs": [],
   "source": [
    "# training results"
   ]
  },
  {
   "cell_type": "code",
   "execution_count": 57,
   "metadata": {},
   "outputs": [],
   "source": [
    "# saving model"
   ]
  },
  {
   "cell_type": "code",
   "execution_count": 58,
   "metadata": {},
   "outputs": [],
   "source": [
    "# calculating accuracy of model"
   ]
  }
 ],
 "metadata": {
  "interpreter": {
   "hash": "b2c84b75df1a9ae631c8693a980b05749fd9760373846739fc41d28fb7839247"
  },
  "kernelspec": {
   "display_name": "Python 3.10.0 64-bit ('project': venv)",
   "language": "python",
   "name": "python3"
  },
  "language_info": {
   "codemirror_mode": {
    "name": "ipython",
    "version": 3
   },
   "file_extension": ".py",
   "mimetype": "text/x-python",
   "name": "python",
   "nbconvert_exporter": "python",
   "pygments_lexer": "ipython3",
   "version": "3.9.8"
  },
  "orig_nbformat": 4
 },
 "nbformat": 4,
 "nbformat_minor": 2
}
