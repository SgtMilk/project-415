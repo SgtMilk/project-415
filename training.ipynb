{
 "cells": [
  {
   "cell_type": "code",
   "execution_count": 12,
   "metadata": {},
   "outputs": [
    {
     "name": "stdout",
     "output_type": "stream",
     "text": [
      "/home/alix/Desktop/school/semester_5/ECSE-415/project-415/data/TRANCOS\n",
      "\u001b[91mYou are training on CPU, are you sure you want to continue?\u001b[0m\n"
     ]
    },
    {
     "data": {
      "text/plain": [
       "<torch._C.Generator at 0x7fd4a81553d0>"
      ]
     },
     "execution_count": 12,
     "metadata": {},
     "output_type": "execute_result"
    }
   ],
   "source": [
    "# imports\n",
    "import torch\n",
    "from torch.utils.data import Dataset, DataLoader\n",
    "import pandas as pd\n",
    "import os\n",
    "import matplotlib.pyplot as plt\n",
    "import numpy as np\n",
    "import cv2\n",
    "from skimage.util import random_noise\n",
    "import gc\n",
    "\n",
    "data_folder = os.path.abspath('./data')\n",
    "image_folder = os.path.join(data_folder, 'TRANCOS')\n",
    "\n",
    "print(image_folder)\n",
    "\n",
    "device = torch.device(\"cuda:0\" if torch.cuda.is_available() else \"cpu\")\n",
    "if torch.cuda.is_available() == False:\n",
    "    print('\\033[91m' + \"You are training on CPU, are you sure you want to continue?\" + '\\033[0m')\n",
    "\n",
    "torch.manual_seed(1)"
   ]
  },
  {
   "cell_type": "code",
   "execution_count": 13,
   "metadata": {},
   "outputs": [],
   "source": [
    "# Hyperparameters\n",
    "img_size = (480, 640, 3)\n",
    "batch_size = 32\n"
   ]
  },
  {
   "cell_type": "code",
   "execution_count": 14,
   "metadata": {},
   "outputs": [],
   "source": [
    "# data augmentation\n",
    "csv = pd.read_csv(os.path.join(data_folder, 'train.csv'))\n",
    "csv = pd.Series(csv.counts.values,index=csv.images).to_dict()\n",
    "images = list(csv.keys())\n",
    "labels = list(csv.values())\n",
    "\n",
    "if len(images) != len(labels):\n",
    "    raise ValueError(\"Image and label arrays do not have the same size in train dataset.\")\n",
    "\n",
    "for img, label in zip(images, labels):\n",
    "    image0 = os.path.join(image_folder, img.rstrip('.jpg') + '-0.jpg')\n",
    "    image1 = os.path.join(image_folder, img.rstrip('.jpg') + '-1.jpg')\n",
    "    image2 = os.path.join(image_folder, img.rstrip('.jpg') + '-2.jpg')\n",
    "    image3 = os.path.join(image_folder, img.rstrip('.jpg') + '-3.jpg')\n",
    "\n",
    "    # if they already exist, no need to redo the data augmentation\n",
    "    if os.path.exists(image0) and os.path.exists(image1) and os.path.exists(image2) and os.path.exists(image3):\n",
    "        continue\n",
    "\n",
    "    image = cv2.normalize(cv2.resize(plt.imread(os.path.join(image_folder, img)), img_size[:2]), None, alpha=0, beta=1, norm_type=cv2.NORM_MINMAX, dtype=cv2.CV_32F)\n",
    "\n",
    "    plt.imsave(image0, image)\n",
    "    plt.imsave(image1, np.fliplr(image))\n",
    "    plt.imsave(image2, np.flipud(image))\n",
    "    plt.imsave(image3, random_noise(image,var=0.2**2))\n",
    "    "
   ]
  },
  {
   "cell_type": "code",
   "execution_count": 15,
   "metadata": {},
   "outputs": [],
   "source": [
    "# dataset class\n",
    "\n",
    "class CustomDataset(Dataset):\n",
    "    def __init__(self, type):\n",
    "\n",
    "        self.type = type\n",
    "        csv = pd.read_csv(os.path.join(data_folder, self.type + '.csv'))\n",
    "\n",
    "        if self.type == 'train' or self.type == 'valid':\n",
    "            csv = pd.Series(csv.counts.values,index=csv.images).to_dict()\n",
    "\n",
    "            # getting the images \n",
    "            self.images = []\n",
    "            self.labels = []\n",
    "            images = list(csv.keys())\n",
    "            labels = list(csv.values())\n",
    "            if len(images) != len(labels):\n",
    "                raise ValueError(\"Image and label arrays do not have the same size.\")\n",
    "            \n",
    "            if self.type == 'valid':\n",
    "                self.images = [os.path.join(image_folder, img) for img in images]\n",
    "                self.labels = labels\n",
    "            else:\n",
    "                for img, label in zip(images, labels):\n",
    "                    # adding augmented data to list\n",
    "                    for i in range(4):\n",
    "                        self.images.append(img.rstrip('.jpg') + '-' + str(i) + '.jpg')\n",
    "                        self.labels.append(label)\n",
    "\n",
    "            if len(self.images) != len(self.labels):\n",
    "                raise ValueError(\"Image and label arrays do not have the same size or some values in these arrays are None.\")\n",
    "\n",
    "        elif self.type == 'test':\n",
    "\n",
    "            # getting the images\n",
    "            self.images = [os.path.join(image_folder, img) for img in list(csv.images.values.tolist())]\n",
    "\n",
    "        else:\n",
    "            raise ValueError(\"Invalid type in dataset. It has to have one of the following values: 'train', 'valid', 'test'.\")\n",
    "        print(\"Initiated \" + self.type + \" dataset of size \" + str(len(self.images)) + \" and images of shape \" + str(list(img_size)))\n",
    "    \n",
    "    def __len__(self):\n",
    "        return len(self.images)\n",
    "    \n",
    "    def __getitem__(self, i):\n",
    "        if self.type == 'test':\n",
    "            return cv2.normalize(cv2.resize(plt.imread(self.images[i]), img_size[:2]), None, alpha=0, beta=1, norm_type=cv2.NORM_MINMAX, dtype=cv2.CV_32F)\n",
    "        else:\n",
    "            return cv2.normalize(cv2.resize(plt.imread(self.images[i]), img_size[:2]), None, alpha=0, beta=1, norm_type=cv2.NORM_MINMAX, dtype=cv2.CV_32F), self.labels[i]"
   ]
  },
  {
   "cell_type": "code",
   "execution_count": 16,
   "metadata": {},
   "outputs": [
    {
     "name": "stdout",
     "output_type": "stream",
     "text": [
      "Initiated train dataset of size 2492 and images of shape [480, 640, 3]\n",
      "Initiated valid dataset of size 200 and images of shape [480, 640, 3]\n",
      "Initiated test dataset of size 421 and images of shape [480, 640, 3]\n"
     ]
    }
   ],
   "source": [
    "# declaring datasets and data loaders\n",
    "\n",
    "train_dataset = CustomDataset('train')\n",
    "train_loader = DataLoader(train_dataset, batch_size=batch_size, shuffle=True)\n",
    "\n",
    "valid_dataset = CustomDataset('valid')\n",
    "valid_loader = DataLoader(valid_dataset, batch_size=batch_size, shuffle=True)\n",
    "\n",
    "test_dataset = CustomDataset('test')\n",
    "test_loader = DataLoader(test_dataset, batch_size=batch_size, shuffle=False)\n"
   ]
  },
  {
   "cell_type": "code",
   "execution_count": 18,
   "metadata": {},
   "outputs": [],
   "source": [
    "# model"
   ]
  },
  {
   "cell_type": "code",
   "execution_count": 19,
   "metadata": {},
   "outputs": [],
   "source": [
    "# training"
   ]
  },
  {
   "cell_type": "code",
   "execution_count": 20,
   "metadata": {},
   "outputs": [],
   "source": [
    "# training results"
   ]
  },
  {
   "cell_type": "code",
   "execution_count": 21,
   "metadata": {},
   "outputs": [],
   "source": [
    "# saving model"
   ]
  },
  {
   "cell_type": "code",
   "execution_count": 22,
   "metadata": {},
   "outputs": [],
   "source": [
    "# calculating accuracy of model"
   ]
  }
 ],
 "metadata": {
  "interpreter": {
   "hash": "b2c84b75df1a9ae631c8693a980b05749fd9760373846739fc41d28fb7839247"
  },
  "kernelspec": {
   "display_name": "Python 3.10.0 64-bit ('project': venv)",
   "language": "python",
   "name": "python3"
  },
  "language_info": {
   "codemirror_mode": {
    "name": "ipython",
    "version": 3
   },
   "file_extension": ".py",
   "mimetype": "text/x-python",
   "name": "python",
   "nbconvert_exporter": "python",
   "pygments_lexer": "ipython3",
   "version": "3.9.8"
  },
  "orig_nbformat": 4
 },
 "nbformat": 4,
 "nbformat_minor": 2
}
