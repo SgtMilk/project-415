{
 "cells": [
  {
   "cell_type": "code",
   "execution_count": 1,
   "metadata": {},
   "outputs": [
    {
     "name": "stdout",
     "output_type": "stream",
     "text": [
      "/home/alix/Desktop/school/semester_5/ECSE-415/project-415/data/TRANCOS\n",
      "\u001b[91mYou are training on CPU, are you sure you want to continue?\u001b[0m\n"
     ]
    },
    {
     "data": {
      "text/plain": [
       "<torch._C.Generator at 0x7f61cc08f1b0>"
      ]
     },
     "execution_count": 1,
     "metadata": {},
     "output_type": "execute_result"
    }
   ],
   "source": [
    "# imports\n",
    "import torch\n",
    "from torch.utils.data import Dataset, DataLoader\n",
    "import pandas as pd\n",
    "import os\n",
    "import matplotlib.pyplot as plt\n",
    "import numpy as np\n",
    "import cv2\n",
    "from skimage.util import random_noise\n",
    "import gc\n",
    "\n",
    "data_folder = os.path.abspath('./data')\n",
    "image_folder = os.path.join(data_folder, 'TRANCOS')\n",
    "\n",
    "print(image_folder)\n",
    "\n",
    "device = torch.device(\"cuda:0\" if torch.cuda.is_available() else \"cpu\")\n",
    "if torch.cuda.is_available() == False:\n",
    "    print('\\033[91m' + \"You are training on CPU, are you sure you want to continue?\" + '\\033[0m')\n",
    "\n",
    "torch.manual_seed(1)"
   ]
  },
  {
   "cell_type": "code",
   "execution_count": 2,
   "metadata": {},
   "outputs": [],
   "source": [
    "# Hyperparameters\n",
    "img_size = (480, 640, 3)\n",
    "batch_size = 32\n"
   ]
  },
  {
   "cell_type": "code",
   "execution_count": 3,
   "metadata": {},
   "outputs": [],
   "source": [
    "# dataset class\n",
    "\n",
    "class CustomDataset(Dataset):\n",
    "    def __init__(self, type):\n",
    "\n",
    "        self.type = type\n",
    "        csv = pd.read_csv(os.path.join(data_folder, self.type + '.csv'))\n",
    "\n",
    "        if self.type == 'train' or self.type == 'valid':\n",
    "            csv = pd.Series(csv.counts.values,index=csv.images).to_dict()\n",
    "\n",
    "            # getting the images \n",
    "            self.images = []\n",
    "            self.labels = []\n",
    "            images = list(csv.keys())\n",
    "            labels = list(csv.values())\n",
    "            if len(images) != len(labels):\n",
    "                raise ValueError(\"Image and label arrays do not have the same size.\")\n",
    "\n",
    "            for img, label in zip(images, labels):\n",
    "\n",
    "                # resizing and normalizing base image\n",
    "                image = cv2.normalize(cv2.resize(plt.imread(os.path.join(image_folder, img)), img_size[:2]), None, alpha=0, beta=1, norm_type=cv2.NORM_MINMAX, dtype=cv2.CV_32F)\n",
    "                self.images.append(torch.from_numpy(image).to(device))\n",
    "                self.labels.append(label)\n",
    "\n",
    "                # data augmentation\n",
    "                if self.type == 'train':\n",
    "                    self.images.append(torch.from_numpy(np.fliplr(image).copy()).to(device))\n",
    "                    self.images.append(torch.from_numpy(np.flipud(image).copy()).to(device))\n",
    "                    for i in range(2):\n",
    "                        self.labels.append(label)\n",
    "\n",
    "            if len(self.images) != len(self.labels):\n",
    "                raise ValueError(\"Image and label arrays do not have the same size or some values in these arrays are None.\")\n",
    "\n",
    "        elif self.type == 'test':\n",
    "\n",
    "            # getting the images\n",
    "            self.images = []\n",
    "            images = list(csv.images.values.tolist())\n",
    "            for img in images:\n",
    "\n",
    "                # resizing and normalizing base image\n",
    "                image = cv2.normalize(cv2.resize(plt.imread(os.path.join(image_folder, img)), img_size[:2]), None, alpha=0, beta=1, norm_type=cv2.NORM_MINMAX, dtype=cv2.CV_32F)\n",
    "                self.images.append(torch.from_numpy(image).to(device))\n",
    "\n",
    "        else:\n",
    "            raise ValueError(\"Invalid type in dataset. It has to have one of the following values: 'train', 'valid', 'test'.\")\n",
    "        print(\"Initiated \" + self.type + \" dataset of size \" + str(len(self.images)) + \" and images of shape \" + str(list(img_size)))\n",
    "    \n",
    "    def __len__(self):\n",
    "        return len(self.images)\n",
    "    \n",
    "    def __getitem__(self, i):\n",
    "        if self.type == 'test':\n",
    "            return self.images[i]\n",
    "        else:\n",
    "            return self.images[i], self.labels[i]"
   ]
  },
  {
   "cell_type": "code",
   "execution_count": 4,
   "metadata": {},
   "outputs": [
    {
     "name": "stdout",
     "output_type": "stream",
     "text": [
      "Initiated train dataset of size 1869 and images of shape [480, 640, 3]\n",
      "Initiated valid dataset of size 200 and images of shape [480, 640, 3]\n",
      "Initiated test dataset of size 421 and images of shape [480, 640, 3]\n"
     ]
    }
   ],
   "source": [
    "# declaring datasets and data loaders\n",
    "\n",
    "train_dataset = CustomDataset('train')\n",
    "train_loader = DataLoader(train_dataset, batch_size=batch_size, shuffle=True)\n",
    "\n",
    "valid_dataset = CustomDataset('valid')\n",
    "valid_loader = DataLoader(valid_dataset, batch_size=batch_size, shuffle=True)\n",
    "\n",
    "test_dataset = CustomDataset('test')\n",
    "test_loader = DataLoader(test_dataset, batch_size=batch_size, shuffle=False)\n"
   ]
  },
  {
   "cell_type": "code",
   "execution_count": 5,
   "metadata": {},
   "outputs": [],
   "source": [
    "# declaring parameters"
   ]
  },
  {
   "cell_type": "code",
   "execution_count": 6,
   "metadata": {},
   "outputs": [],
   "source": [
    "# model"
   ]
  },
  {
   "cell_type": "code",
   "execution_count": 7,
   "metadata": {},
   "outputs": [],
   "source": [
    "# training"
   ]
  },
  {
   "cell_type": "code",
   "execution_count": 8,
   "metadata": {},
   "outputs": [],
   "source": [
    "# training results"
   ]
  },
  {
   "cell_type": "code",
   "execution_count": 9,
   "metadata": {},
   "outputs": [],
   "source": [
    "# saving model"
   ]
  },
  {
   "cell_type": "code",
   "execution_count": 10,
   "metadata": {},
   "outputs": [],
   "source": [
    "# calculating accuracy of model"
   ]
  }
 ],
 "metadata": {
  "interpreter": {
   "hash": "b2c84b75df1a9ae631c8693a980b05749fd9760373846739fc41d28fb7839247"
  },
  "kernelspec": {
   "display_name": "Python 3.10.0 64-bit ('project': venv)",
   "language": "python",
   "name": "python3"
  },
  "language_info": {
   "codemirror_mode": {
    "name": "ipython",
    "version": 3
   },
   "file_extension": ".py",
   "mimetype": "text/x-python",
   "name": "python",
   "nbconvert_exporter": "python",
   "pygments_lexer": "ipython3",
   "version": "3.9.8"
  },
  "orig_nbformat": 4
 },
 "nbformat": 4,
 "nbformat_minor": 2
}
