{
 "cells": [
  {
   "cell_type": "code",
   "execution_count": 1,
   "source": [
    "#Various iimport statements used  later\n",
    "\n",
    "import matplotlib.image as mpimg\n",
    "import pandas as pd\n",
    "from skimage.feature import hog\n",
    "from skimage import exposure, color\n",
    "import matplotlib.pyplot as plt\n",
    "from sklearn.svm import SVR\n",
    "from sklearn.pipeline import make_pipeline\n",
    "from sklearn.preprocessing import StandardScaler\n",
    "import numpy as np\n",
    "import csv\n",
    "from scipy import stats"
   ],
   "outputs": [],
   "metadata": {}
  },
  {
   "cell_type": "code",
   "execution_count": 2,
   "source": [
    "# Read Validation Traffic Image\n",
    "trainIm = []\n",
    "validIm = [] \n",
    "csvTrain = 'data/train.csv'\n",
    "csvValid = 'data/valid.csv'\n",
    "path = 'data/original/'\n",
    "\n",
    "# read csv file for the training set\n",
    "df = pd.read_csv(csvTrain)\n",
    "trainCount = list(df['counts'])\n",
    "images = list(df['images'])\n",
    "\n",
    "for image in images:\n",
    "    im = color.rgb2gray(mpimg.imread(path + str(image), 0))\n",
    "    trainIm.append(im)\n",
    "\n",
    "# read csv file for the validation set\n",
    "df = pd.read_csv(csvValid)\n",
    "validCount = list(df['counts'])\n",
    "images = list(df['images'])\n",
    "\n",
    "for image in images:\n",
    "    im = color.rgb2gray(mpimg.imread(path + str(image), 0))\n",
    "    validIm.append(im)\n",
    "\n",
    "del df, im, image, images, path, csvTrain, csvValid"
   ],
   "outputs": [],
   "metadata": {}
  },
  {
   "cell_type": "code",
   "execution_count": 3,
   "source": [
    "def myHog(image): # Hog for the images\n",
    "    return hog(image, orientations=9, pixels_per_cell=(20, 20), cells_per_block=(2, 2), visualize=False)"
   ],
   "outputs": [],
   "metadata": {}
  },
  {
   "cell_type": "code",
   "execution_count": 4,
   "source": [
    "# Compute the HOGs for all the train images\n",
    "hogTrain = []\n",
    "\n",
    "for x, im in enumerate(trainIm):\n",
    "    fd = myHog(im)\n",
    "    hogTrain.append(fd)\n",
    "\n",
    "hogTrain = np.stack(hogTrain)\n",
    "\n",
    "del fd, x"
   ],
   "outputs": [],
   "metadata": {}
  },
  {
   "cell_type": "code",
   "execution_count": 5,
   "source": [
    "# Fit the HOG to the count in the training images\n",
    "regr = make_pipeline(StandardScaler(), SVR(C=50.0, epsilon=0.15, degree=6))\n",
    "regr.fit(hogTrain, trainCount)"
   ],
   "outputs": [
    {
     "output_type": "execute_result",
     "data": {
      "text/plain": [
       "Pipeline(steps=[('standardscaler', StandardScaler()),\n",
       "                ('svr', SVR(C=50.0, degree=6, epsilon=0.15))])"
      ]
     },
     "metadata": {},
     "execution_count": 5
    }
   ],
   "metadata": {}
  },
  {
   "cell_type": "code",
   "execution_count": 6,
   "source": [
    "hogValid = []\n",
    "\n",
    "for x, im in enumerate(validIm):\n",
    "    fd = myHog(im)\n",
    "    hogValid.append(fd)\n",
    "\n",
    "hogValid = np.stack(hogValid)\n",
    "validPred = regr.predict(hogValid)\n",
    "\n",
    "del fd, x"
   ],
   "outputs": [],
   "metadata": {}
  },
  {
   "cell_type": "code",
   "execution_count": 7,
   "source": [
    "\n",
    "fig, ax = plt.subplots(figsize=(10,8))\n",
    "ax.scatter(validPred, validCount)\n",
    "ax.set_xlabel('Predicted Vehicle Count')\n",
    "ax.set_ylabel('True Vehicle Count')\n",
    "ax.set_title('Support Vector Regressor using HOGs for direct car count')\n",
    "plt.show()\n",
    "\n",
    "del fig, ax"
   ],
   "outputs": [
    {
     "output_type": "display_data",
     "data": {
      "image/png": "[encoded data removed]",
      "text/plain": [
       "<Figure size 720x576 with 1 Axes>"
      ]
     },
     "metadata": {
      "needs_background": "light"
     }
    }
   ],
   "metadata": {}
  },
  {
   "cell_type": "code",
   "execution_count": 8,
   "source": [
    "r, p = stats.pearsonr(validPred, validCount)\n",
    "print('Pearson’s Correlation Coefficient: ' + str(r))\n",
    "del r, p"
   ],
   "outputs": [
    {
     "output_type": "stream",
     "name": "stdout",
     "text": [
      "Pearson’s Correlation Coefficient: 0.8255004617311588\n"
     ]
    }
   ],
   "metadata": {}
  },
  {
   "cell_type": "code",
   "execution_count": 9,
   "source": [
    "mae_sum = 0\n",
    "mae_sum = np.sum(abs(validPred - validCount))\n",
    "mae = mae_sum / len(validCount)\n",
    "print('Mean Absolute Error: ' + str(mae))\n",
    "\n",
    "del mae, mae_sum"
   ],
   "outputs": [
    {
     "output_type": "stream",
     "name": "stdout",
     "text": [
      "Mean Absolute Error: 6.362325096623494\n"
     ]
    }
   ],
   "metadata": {}
  },
  {
   "cell_type": "code",
   "execution_count": 10,
   "source": [
    "mse_sum = 0\n",
    "mse_sum = np.sum((validPred - validCount)**2)\n",
    "mse = mse_sum / len(validCount)\n",
    "\n",
    "print('Mean Square Error: ' + str(mse))\n",
    "\n",
    "del mse, mse_sum"
   ],
   "outputs": [
    {
     "output_type": "stream",
     "name": "stdout",
     "text": [
      "Mean Square Error: 69.68214250507917\n"
     ]
    }
   ],
   "metadata": {}
  },
  {
   "cell_type": "code",
   "execution_count": 11,
   "source": [
    "# Compute MDE Metric\n",
    "def MDE (validPred, expected_counts):\n",
    "  mean_ac = []\n",
    "  true_vehicle_counts = validPred\n",
    "  for i in range(len(true_vehicle_counts)):\n",
    "    accuracy = (validPred[i]/expected_counts[i])*100\n",
    "    ac = np.append(mean_ac, accuracy)\n",
    "  # Compute mean of results\n",
    "  return np.mean(ac)\n",
    "print('Mean Deviation Error: ' + str(MDE(validPred, validCount))+ ' %')"
   ],
   "outputs": [
    {
     "output_type": "error",
     "ename": "TypeError",
     "evalue": "only integer scalar arrays can be converted to a scalar index",
     "traceback": [
      "\u001b[0;31m---------------------------------------------------------------------------\u001b[0m",
      "\u001b[0;31mTypeError\u001b[0m                                 Traceback (most recent call last)",
      "\u001b[0;32m/tmp/ipykernel_16141/1087883676.py\u001b[0m in \u001b[0;36m<module>\u001b[0;34m\u001b[0m\n\u001b[1;32m      8\u001b[0m   \u001b[0;31m# Compute mean of results\u001b[0m\u001b[0;34m\u001b[0m\u001b[0;34m\u001b[0m\u001b[0;34m\u001b[0m\u001b[0m\n\u001b[1;32m      9\u001b[0m   \u001b[0;32mreturn\u001b[0m \u001b[0mnp\u001b[0m\u001b[0;34m.\u001b[0m\u001b[0mmean\u001b[0m\u001b[0;34m(\u001b[0m\u001b[0mac\u001b[0m\u001b[0;34m)\u001b[0m\u001b[0;34m\u001b[0m\u001b[0;34m\u001b[0m\u001b[0m\n\u001b[0;32m---> 10\u001b[0;31m \u001b[0mprint\u001b[0m\u001b[0;34m(\u001b[0m\u001b[0;34m'Mean Deviation Error: '\u001b[0m \u001b[0;34m+\u001b[0m \u001b[0mstr\u001b[0m\u001b[0;34m(\u001b[0m\u001b[0mMDE\u001b[0m\u001b[0;34m(\u001b[0m\u001b[0mvalidPred\u001b[0m\u001b[0;34m,\u001b[0m \u001b[0mvalidCount\u001b[0m\u001b[0;34m)\u001b[0m\u001b[0;34m)\u001b[0m\u001b[0;34m+\u001b[0m \u001b[0;34m' %'\u001b[0m\u001b[0;34m)\u001b[0m\u001b[0;34m\u001b[0m\u001b[0;34m\u001b[0m\u001b[0m\n\u001b[0m",
      "\u001b[0;32m/tmp/ipykernel_16141/1087883676.py\u001b[0m in \u001b[0;36mMDE\u001b[0;34m(validPred, expected_counts)\u001b[0m\n\u001b[1;32m      3\u001b[0m   \u001b[0mmean_ac\u001b[0m \u001b[0;34m=\u001b[0m \u001b[0;34m[\u001b[0m\u001b[0;34m]\u001b[0m\u001b[0;34m\u001b[0m\u001b[0;34m\u001b[0m\u001b[0m\n\u001b[1;32m      4\u001b[0m   \u001b[0mtrue_vehicle_counts\u001b[0m \u001b[0;34m=\u001b[0m \u001b[0mvalidPred\u001b[0m\u001b[0;34m\u001b[0m\u001b[0;34m\u001b[0m\u001b[0m\n\u001b[0;32m----> 5\u001b[0;31m   \u001b[0;32mfor\u001b[0m \u001b[0mi\u001b[0m \u001b[0;32min\u001b[0m \u001b[0mrange\u001b[0m\u001b[0;34m(\u001b[0m\u001b[0mtrue_vehicle_counts\u001b[0m\u001b[0;34m)\u001b[0m\u001b[0;34m:\u001b[0m\u001b[0;34m\u001b[0m\u001b[0;34m\u001b[0m\u001b[0m\n\u001b[0m\u001b[1;32m      6\u001b[0m     \u001b[0maccuracy\u001b[0m \u001b[0;34m=\u001b[0m \u001b[0;34m(\u001b[0m\u001b[0mvalidPred\u001b[0m\u001b[0;34m[\u001b[0m\u001b[0mi\u001b[0m\u001b[0;34m]\u001b[0m\u001b[0;34m/\u001b[0m\u001b[0mexpected_counts\u001b[0m\u001b[0;34m[\u001b[0m\u001b[0mi\u001b[0m\u001b[0;34m]\u001b[0m\u001b[0;34m)\u001b[0m\u001b[0;34m*\u001b[0m\u001b[0;36m100\u001b[0m\u001b[0;34m\u001b[0m\u001b[0;34m\u001b[0m\u001b[0m\n\u001b[1;32m      7\u001b[0m     \u001b[0mac\u001b[0m \u001b[0;34m=\u001b[0m \u001b[0mnp\u001b[0m\u001b[0;34m.\u001b[0m\u001b[0mappend\u001b[0m\u001b[0;34m(\u001b[0m\u001b[0mmean_ac\u001b[0m\u001b[0;34m,\u001b[0m \u001b[0maccuracy\u001b[0m\u001b[0;34m)\u001b[0m\u001b[0;34m\u001b[0m\u001b[0;34m\u001b[0m\u001b[0m\n",
      "\u001b[0;31mTypeError\u001b[0m: only integer scalar arrays can be converted to a scalar index"
     ]
    }
   ],
   "metadata": {}
  },
  {
   "cell_type": "code",
   "execution_count": null,
   "source": [
    "# Read Validation Traffic Image\n",
    "testIm = []\n",
    "csvTest = 'data/test.csv'\n",
    "path = 'data/original/'\n",
    "\n",
    "# read csv file for the testset\n",
    "df = pd.read_csv(csvTest)\n",
    "images = list(df['images'])\n",
    "\n",
    "for image in images:\n",
    "    im = color.rgb2gray(mpimg.imread(path + str(image), 0))\n",
    "    testIm.append(im)\n",
    "\n",
    "del path, image, df, csvTest, im"
   ],
   "outputs": [],
   "metadata": {}
  },
  {
   "cell_type": "code",
   "execution_count": null,
   "source": [
    "hogTest = []\n",
    "\n",
    "for x, im in enumerate(testIm):\n",
    "    fd = myHog(im)\n",
    "    hogTest.append(fd)\n",
    "\n",
    "hogTest = np.stack(hogTest)\n",
    "testPred = regr.predict(hogTest)\n",
    "\n",
    "del x, fd, im"
   ],
   "outputs": [],
   "metadata": {}
  },
  {
   "cell_type": "code",
   "execution_count": null,
   "source": [
    "out = [['images'], ['counts']]\n",
    "out[0].extend(images)\n",
    "out[1].extend(testPred.astype(int))\n",
    "\n",
    "out2 = zip(*out)\n",
    "out3 = list(out2)\n",
    "\n",
    "with open('test_out1223.csv', 'w') as f:\n",
    "    # using csv.writer method from CSV package\n",
    "    write = csv.writer(f)\n",
    "    for x in out3:\n",
    "        write.writerow(x)\n",
    "    f.close()\n",
    "\n",
    "del write, out, out2, out3, x, f"
   ],
   "outputs": [],
   "metadata": {}
  }
 ],
 "metadata": {
  "interpreter": {
   "hash": "e7370f93d1d0cde622a1f8e1c04877d8463912d04d973331ad4851f04de6915a"
  },
  "kernelspec": {
   "name": "python3",
   "display_name": "Python 3.9.6 64-bit"
  },
  "language_info": {
   "codemirror_mode": {
    "name": "ipython",
    "version": 3
   },
   "file_extension": ".py",
   "mimetype": "text/x-python",
   "name": "python",
   "nbconvert_exporter": "python",
   "pygments_lexer": "ipython3",
   "version": "3.9.6"
  },
  "orig_nbformat": 4
 },
 "nbformat": 4,
 "nbformat_minor": 2
}